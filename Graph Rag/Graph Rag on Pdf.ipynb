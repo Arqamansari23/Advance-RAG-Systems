{
 "cells": [
  {
   "cell_type": "markdown",
   "id": "db2b4312",
   "metadata": {},
   "source": [
    "# Neo4j Config"
   ]
  },
  {
   "cell_type": "code",
   "execution_count": 1,
   "id": "7f02a72b",
   "metadata": {},
   "outputs": [],
   "source": [
    "NEO4J_URI=\"neo4j+s://0438cb2c.databases.neo4j.io\"\n",
    "NEO4J_USERNAME=\"neo4j\"\n",
    "NEO4J_PASSWORD=\"dD3l5MoTW-_pX6STAQamH73KnfewGbkoKBRgC_vO4c0\"\n"
   ]
  },
  {
   "cell_type": "code",
   "execution_count": 2,
   "id": "66ac554a",
   "metadata": {},
   "outputs": [],
   "source": [
    "import os\n",
    "os.environ[\"NEO4J_URI\"]=NEO4J_URI\n",
    "os.environ[\"NEO4J_USERNAME\"]=NEO4J_USERNAME\n",
    "os.environ[\"NEO4J_PASSWORD\"]=NEO4J_PASSWORD"
   ]
  },
  {
   "cell_type": "markdown",
   "id": "4b353925",
   "metadata": {},
   "source": [
    "#  Groq Api for Using LLM "
   ]
  },
  {
   "cell_type": "code",
   "execution_count": 3,
   "id": "39fed1f9",
   "metadata": {},
   "outputs": [],
   "source": [
    "groq_api_key=\"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\""
   ]
  },
  {
   "cell_type": "markdown",
   "id": "b5b622f2",
   "metadata": {},
   "source": [
    "# LLM config "
   ]
  },
  {
   "cell_type": "code",
   "execution_count": 4,
   "id": "77a9e707",
   "metadata": {},
   "outputs": [
    {
     "data": {
      "text/plain": [
       "ChatGroq(client=<groq.resources.chat.completions.Completions object at 0x000001D81440ABC0>, async_client=<groq.resources.chat.completions.AsyncCompletions object at 0x000001D814444E50>, model_name='Gemma2-9b-It', model_kwargs={}, groq_api_key=SecretStr('**********'))"
      ]
     },
     "execution_count": 4,
     "metadata": {},
     "output_type": "execute_result"
    }
   ],
   "source": [
    "from langchain_groq import ChatGroq\n",
    "\n",
    "llm=ChatGroq(groq_api_key=groq_api_key,model_name=\"Gemma2-9b-It\")\n",
    "llm"
   ]
  },
  {
   "cell_type": "markdown",
   "id": "b108ff34",
   "metadata": {},
   "source": [
    "# pdf Loader and Recursice Text Splitter "
   ]
  },
  {
   "cell_type": "code",
   "execution_count": 6,
   "id": "0331904e",
   "metadata": {},
   "outputs": [
    {
     "name": "stdout",
     "output_type": "stream",
     "text": [
      "\n",
      "Loaded 306 chunks from '1. The Metamorphosis, Franz Kafka'\n",
      "Example chunk:\n",
      " THE \n",
      "METAMORPHOSIS\n",
      "Franz kafka \n",
      "InfoBooks.org\n"
     ]
    }
   ],
   "source": [
    "import os\n",
    "from langchain.document_loaders import PyPDFLoader\n",
    "from langchain.text_splitter import RecursiveCharacterTextSplitter\n",
    "\n",
    "# 🔹 Ask user for PDF path\n",
    "pdf_path = input(\"Enter the full path to your PDF file: \").strip()\n",
    "\n",
    "# 🔹 Extract book title from filename (without .pdf extension)\n",
    "book_title = os.path.splitext(os.path.basename(pdf_path))[0]\n",
    "\n",
    "def load_and_split_pdf(path, book_title):\n",
    "    loader = PyPDFLoader(path)\n",
    "    docs = loader.load()\n",
    "\n",
    "    for doc in docs:\n",
    "        doc.metadata['book'] = book_title\n",
    "\n",
    "    splitter = RecursiveCharacterTextSplitter(chunk_size=500, chunk_overlap=50)\n",
    "    chunks = splitter.split_documents(docs)\n",
    "    return chunks\n",
    "\n",
    "# 🔹 Load and chunk the user-selected book\n",
    "chunks = load_and_split_pdf(pdf_path, book_title)\n",
    "\n",
    "# ✅ Preview\n",
    "print(f\"\\nLoaded {len(chunks)} chunks from '{book_title}'\")\n",
    "print(\"Example chunk:\\n\", chunks[0].page_content[:300])\n"
   ]
  },
  {
   "cell_type": "code",
   "execution_count": 7,
   "id": "22a2ec20",
   "metadata": {},
   "outputs": [
    {
     "name": "stdout",
     "output_type": "stream",
     "text": [
      "\n",
      "Loaded 20 chunks from '1. The Metamorphosis, Franz Kafka' (first 20 only)\n",
      "Example chunk:\n",
      " THE \n",
      "METAMORPHOSIS\n",
      "Franz kafka \n",
      "InfoBooks.org\n"
     ]
    }
   ],
   "source": [
    "import os\n",
    "from langchain.document_loaders import PyPDFLoader\n",
    "from langchain.text_splitter import RecursiveCharacterTextSplitter\n",
    "\n",
    "# 🔹 Ask user for PDF path\n",
    "pdf_path = input(\"Enter the full path to your PDF file: \").strip()\n",
    "\n",
    "# 🔹 Extract book title from filename (without .pdf extension)\n",
    "book_title = os.path.splitext(os.path.basename(pdf_path))[0]\n",
    "\n",
    "def load_and_split_pdf(path, book_title):\n",
    "    loader = PyPDFLoader(path)\n",
    "    docs = loader.load()\n",
    "\n",
    "    for doc in docs:\n",
    "        doc.metadata['book'] = book_title\n",
    "\n",
    "    splitter = RecursiveCharacterTextSplitter(chunk_size=500, chunk_overlap=50)\n",
    "    chunks = splitter.split_documents(docs)\n",
    "    return chunks\n",
    "\n",
    "# 🔹 Load and chunk the user-selected book\n",
    "all_chunks = load_and_split_pdf(pdf_path, book_title)\n",
    "\n",
    "# 🔹 Use only the first 20 chunks\n",
    "chunks = all_chunks[:20]\n",
    "\n",
    "# ✅ Preview\n",
    "print(f\"\\nLoaded {len(chunks)} chunks from '{book_title}' (first 20 only)\")\n",
    "print(\"Example chunk:\\n\", chunks[0].page_content[:300])\n"
   ]
  },
  {
   "cell_type": "markdown",
   "id": "a6cab788",
   "metadata": {},
   "source": [
    "# LLMGraph Transformer for converting data into Graphs "
   ]
  },
  {
   "cell_type": "code",
   "execution_count": 8,
   "id": "4997de27",
   "metadata": {},
   "outputs": [],
   "source": [
    "from langchain_experimental.graph_transformers import LLMGraphTransformer\n",
    "llm_transformer=LLMGraphTransformer(llm=llm)"
   ]
  },
  {
   "cell_type": "markdown",
   "id": "e3579267",
   "metadata": {},
   "source": [
    "# Converting Chunks into Graphs "
   ]
  },
  {
   "cell_type": "code",
   "execution_count": 9,
   "id": "5856f57c",
   "metadata": {},
   "outputs": [],
   "source": [
    "graph_documents=llm_transformer.convert_to_graph_documents(chunks)"
   ]
  },
  {
   "cell_type": "markdown",
   "id": "917c80f4",
   "metadata": {},
   "source": [
    "# defining Graph "
   ]
  },
  {
   "cell_type": "code",
   "execution_count": 10,
   "id": "b407c333",
   "metadata": {},
   "outputs": [
    {
     "name": "stderr",
     "output_type": "stream",
     "text": [
      "C:\\Users\\arqamahmed.ansari\\AppData\\Local\\Temp\\ipykernel_11520\\3558848663.py:2: LangChainDeprecationWarning: The class `Neo4jGraph` was deprecated in LangChain 0.3.8 and will be removed in 1.0. An updated version of the class exists in the :class:`~langchain-neo4j package and should be used instead. To use it run `pip install -U :class:`~langchain-neo4j` and import as `from :class:`~langchain_neo4j import Neo4jGraph``.\n",
      "  graph=Neo4jGraph(\n"
     ]
    }
   ],
   "source": [
    "from langchain_community.graphs import Neo4jGraph\n",
    "graph=Neo4jGraph(\n",
    "    url=NEO4J_URI,\n",
    "    username=NEO4J_USERNAME,\n",
    "    password=NEO4J_PASSWORD,\n",
    ")"
   ]
  },
  {
   "cell_type": "markdown",
   "id": "aa1a64ec",
   "metadata": {},
   "source": [
    "# Adding Knowledge graph into Ne04j"
   ]
  },
  {
   "cell_type": "code",
   "execution_count": 11,
   "id": "2525bea1",
   "metadata": {},
   "outputs": [],
   "source": [
    "# Step 2: Upload graph\n",
    "graph.add_graph_documents(graph_documents)"
   ]
  },
  {
   "cell_type": "code",
   "execution_count": 12,
   "id": "ec983636",
   "metadata": {},
   "outputs": [
    {
     "name": "stdout",
     "output_type": "stream",
     "text": [
      "Node properties:\n",
      "Book {id: STRING}\n",
      "Person {id: STRING}\n",
      "Organization {id: STRING}\n",
      "Workofliterature {id: STRING}\n",
      "Concept {id: STRING}\n",
      "Author {id: STRING}\n",
      "Profession {id: STRING}\n",
      "Thing {id: STRING}\n",
      "Pain {id: STRING}\n",
      "Action {id: STRING}\n",
      "Feeling {id: STRING}\n",
      "Furniture {id: STRING}\n",
      "Body_part {id: STRING}\n",
      "Mark {id: STRING}\n",
      "Object {id: STRING}\n",
      "Event {id: STRING}\n",
      "Relationship properties:\n",
      "\n",
      "The relationships:\n",
      "(:Book)-[:AUTHOR]->(:Person)\n",
      "(:Book)-[:PUBLISHER]->(:Organization)\n",
      "(:Book)-[:WROTE]->(:Author)\n",
      "(:Person)-[:AUTHOR]->(:Workofliterature)\n",
      "(:Person)-[:WROTE]->(:Book)\n",
      "(:Person)-[:TRANSFORMSINTO]->(:Concept)\n",
      "(:Person)-[:DREAMS]->(:Concept)\n",
      "(:Person)-[:TRANSFORMED]->(:Concept)\n",
      "(:Person)-[:OCCUPATION]->(:Profession)\n",
      "(:Person)-[:LOOKING_AT]->(:Thing)\n",
      "(:Person)-[:EMPLOYEE]->(:Person)\n",
      "(:Person)-[:SPOKETO]->(:Person)\n",
      "(:Person)-[:NEAR]->(:Object)\n",
      "(:Person)-[:NEAR]->(:Furniture)\n",
      "(:Person)-[:EXPERIENCE]->(:Pain)\n",
      "(:Person)-[:PERFORMS]->(:Action)\n",
      "(:Person)-[:EXPERIENCES]->(:Action)\n",
      "(:Person)-[:EXPERIENCES]->(:Feeling)\n",
      "(:Person)-[:EXPERIENCES]->(:Thing)\n",
      "(:Person)-[:EXPERIENCES]->(:Body_part)\n",
      "(:Person)-[:OBSERVES]->(:Mark)\n",
      "(:Person)-[:USES]->(:Body_part)\n",
      "(:Person)-[:WORKS_FOR]->(:Person)\n",
      "(:Person)-[:KNOWS]->(:Person)\n",
      "(:Person)-[:EMPLOYS]->(:Person)\n",
      "(:Person)-[:REPORTES_ON]->(:Person)\n",
      "(:Person)-[:TREATS]->(:Person)\n",
      "(:Person)-[:TALKED_TO]->(:Person)\n",
      "(:Person)-[:AWARE]->(:Person)\n",
      "(:Organization)-[:OFFERS]->(:Book)\n",
      "(:Object)-[:HAS]->(:Person)\n",
      "(:Event)-[:OCCURS_AT]->(:Concept)\n"
     ]
    }
   ],
   "source": [
    "graph.refresh_schema()\n",
    "print(graph.schema)"
   ]
  },
  {
   "cell_type": "markdown",
   "id": "4ab11764",
   "metadata": {},
   "source": [
    "# Defining GraphCypherQAChain to Query with Graph data in neo4j"
   ]
  },
  {
   "cell_type": "code",
   "execution_count": 13,
   "id": "c8f6eba2",
   "metadata": {},
   "outputs": [],
   "source": [
    "from langchain.chains import GraphCypherQAChain\n",
    "\n",
    "chain = GraphCypherQAChain.from_llm(\n",
    "    llm=llm,\n",
    "    graph=graph,\n",
    "    verbose=True,\n",
    "    allow_dangerous_requests=True  # ✅ This unlocks full Cypher access\n",
    ")\n",
    "\n",
    "\n",
    "\n"
   ]
  },
  {
   "cell_type": "code",
   "execution_count": null,
   "id": "9cd29ee0",
   "metadata": {},
   "outputs": [
    {
     "name": "stdout",
     "output_type": "stream",
     "text": [
      "\n",
      "\n",
      "\u001b[1m> Entering new GraphCypherQAChain chain...\u001b[0m\n",
      "Generated Cypher:\n",
      "\u001b[32;1m\u001b[1;3mMATCH (b:Book)-[:AUTHOR]->(p:Person)\n",
      "RETURN p.id, b.id \n",
      "\u001b[0m\n",
      "Full Context:\n",
      "\u001b[32;1m\u001b[1;3m[{'p.id': 'Franz Kafka', 'b.id': 'The Metamorphosis'}]\u001b[0m\n",
      "\n",
      "\u001b[1m> Finished chain.\u001b[0m\n"
     ]
    },
    {
     "data": {
      "text/plain": [
       "{'query': 'What is the main theme of the book?',\n",
       " 'result': \"I don't know the answer. \\n\"}"
      ]
     },
     "execution_count": 14,
     "metadata": {},
     "output_type": "execute_result"
    }
   ],
   "source": [
    "response=chain.invoke({\"query\":\"YNOPSIS OF THE METAMORPHOSI?\"})\n",
    "\n",
    "response"
   ]
  },
  {
   "cell_type": "code",
   "execution_count": null,
   "id": "ea21803a",
   "metadata": {},
   "outputs": [],
   "source": []
  }
 ],
 "metadata": {
  "kernelspec": {
   "display_name": "AdvanceRAG",
   "language": "python",
   "name": "python3"
  },
  "language_info": {
   "codemirror_mode": {
    "name": "ipython",
    "version": 3
   },
   "file_extension": ".py",
   "mimetype": "text/x-python",
   "name": "python",
   "nbconvert_exporter": "python",
   "pygments_lexer": "ipython3",
   "version": "3.10.18"
  }
 },
 "nbformat": 4,
 "nbformat_minor": 5
}
